{
 "nbformat": 4,
 "nbformat_minor": 2,
 "metadata": {
  "language_info": {
   "name": "python",
   "codemirror_mode": {
    "name": "ipython",
    "version": 3
   },
   "version": "3.8.0"
  },
  "orig_nbformat": 2,
  "file_extension": ".py",
  "mimetype": "text/x-python",
  "name": "python",
  "npconvert_exporter": "python",
  "pygments_lexer": "ipython3",
  "version": 3
 },
 "cells": [
  {
   "cell_type": "code",
   "execution_count": 1,
   "metadata": {},
   "outputs": [
    {
     "name": "stdout",
     "output_type": "stream",
     "text": "Alexander\n"
    }
   ],
   "source": [
    "# Кортежи.\n",
    "# Кортеж - это последовательность элементов, похожая на список. \n",
    "# Кортеж является неизменяемым типом.\n",
    "# Нельзя изменять, удалять или добовлять элементы в кортеже.\n",
    "# Пример:\n",
    "user = (\"Alexander\", 25)\n",
    "print(user)"
   ]
  },
  {
   "cell_type": "code",
   "execution_count": 2,
   "metadata": {},
   "outputs": [
    {
     "name": "stdout",
     "output_type": "stream",
     "text": "('Alexandr', 25)\n"
    }
   ],
   "source": [
    "# Для определения кортежа, можно перечислить его значения через запятую, не применяя скобки.\n",
    "# Пример:\n",
    "user = \"Alexandr\", 25\n",
    "print(user)"
   ]
  },
  {
   "cell_type": "code",
   "execution_count": 7,
   "metadata": {},
   "outputs": [
    {
     "name": "stdout",
     "output_type": "stream",
     "text": "Alexander\n"
    }
   ],
   "source": [
    "# Если кортеж состоит хотя бы из одного элемента, то нужно после единственного элемента ставить запятую.\n",
    "# Пример:\n",
    "user = (\"Alexander\",)"
   ]
  },
  {
   "cell_type": "code",
   "execution_count": 8,
   "metadata": {},
   "outputs": [
    {
     "name": "stdout",
     "output_type": "stream",
     "text": "('Alexandr', 'Sam', 'Nikol')\n"
    }
   ],
   "source": [
    "# Для создания кортежа из списка можно передать список в функцию <tuple()>, которая возвратит кортеж.\n",
    "# Пример:\n",
    "users_list = [\"Alexandr\", \"Sam\", \"Nikol\"]\n",
    "users_tuple = tuple(users_list)\n",
    "print(users_tuple)"
   ]
  },
  {
   "cell_type": "code",
   "execution_count": null,
   "metadata": {},
   "outputs": [],
   "source": []
  }
 ]
}