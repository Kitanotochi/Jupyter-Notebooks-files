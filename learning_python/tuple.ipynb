{
 "nbformat": 4,
 "nbformat_minor": 2,
 "metadata": {
  "language_info": {
   "name": "python",
   "codemirror_mode": {
    "name": "ipython",
    "version": 3
   },
   "version": "3.8.0"
  },
  "orig_nbformat": 2,
  "file_extension": ".py",
  "mimetype": "text/x-python",
  "name": "python",
  "npconvert_exporter": "python",
  "pygments_lexer": "ipython3",
  "version": 3
 },
 "cells": [
  {
   "cell_type": "code",
   "execution_count": 1,
   "metadata": {},
   "outputs": [
    {
     "name": "stdout",
     "output_type": "stream",
     "text": "('Alexander', 25)\n"
    }
   ],
   "source": [
    "# Кортежи.\n",
    "# Кортеж - это последовательность элементов, похожая на список. \n",
    "# Кортеж является неизменяемым типом.\n",
    "# Нельзя изменять, удалять или добовлять элементы в кортеже.\n",
    "# Пример:\n",
    "user = (\"Alexander\", 25)\n",
    "print(user)"
   ]
  },
  {
   "cell_type": "code",
   "execution_count": 2,
   "metadata": {},
   "outputs": [
    {
     "name": "stdout",
     "output_type": "stream",
     "text": "('Alexandr', 25)\n"
    }
   ],
   "source": [
    "# Для определения кортежа, можно перечислить его значения через запятую, не применяя скобки.\n",
    "# Пример:\n",
    "user = \"Alexandr\", 25\n",
    "print(user)"
   ]
  },
  {
   "cell_type": "code",
   "execution_count": 3,
   "metadata": {},
   "outputs": [],
   "source": [
    "# Если кортеж состоит хотя бы из одного элемента, то нужно после единственного элемента ставить запятую.\n",
    "# Пример:\n",
    "user = (\"Alexander\",)"
   ]
  },
  {
   "cell_type": "code",
   "execution_count": 4,
   "metadata": {},
   "outputs": [
    {
     "name": "stdout",
     "output_type": "stream",
     "text": "('Alexandr', 'Sam', 'Nikol')\n"
    }
   ],
   "source": [
    "# Для создания кортежа из списка можно передать список в функцию <tuple()>, которая возвратит кортеж.\n",
    "# Пример:\n",
    "users_list = [\"Alexandr\", \"Sam\", \"Nikol\"]\n",
    "users_tuple = tuple(users_list)\n",
    "print(users_tuple)"
   ]
  },
  {
   "cell_type": "code",
   "execution_count": 5,
   "metadata": {},
   "outputs": [
    {
     "name": "stdout",
     "output_type": "stream",
     "text": "Alexandr\nNikol\nNikol\n('Sam', 'Nikol')\n"
    }
   ],
   "source": [
    "# К кортежу можно обращаться по элементам, так же как и по индексу в списках.\n",
    "# Индексация начинается с нуля, а сели индексировать с конца элементов, то -1.\n",
    "# Пример:\n",
    "users = (\"Alexandr\", \"Sam\", \"Nikol\")\n",
    "print(users[0])  \n",
    "print(users[2])   \n",
    "print(users[-1])\n",
    " \n",
    "# получим часть кортежа со 2 по 4 элемент.\n",
    "print(users[1:4]) "
   ]
  },
  {
   "cell_type": "code",
   "execution_count": 6,
   "metadata": {},
   "outputs": [
    {
     "name": "stdout",
     "output_type": "stream",
     "text": "Sam\n35\nFalse\n"
    }
   ],
   "source": [
    "# При необходимости кортеж можно разложить на отдельные переменные.\n",
    "# Пример:\n",
    "user = (\"Sam\", 35, False)\n",
    "name, age, isMarried = user\n",
    "print(name)             # Sam\n",
    "print(age)              # 35\n",
    "print(isMarried)        # False"
   ]
  },
  {
   "cell_type": "code",
   "execution_count": 7,
   "metadata": {},
   "outputs": [
    {
     "name": "stdout",
     "output_type": "stream",
     "text": "Sam\n35\nFalse\n"
    }
   ],
   "source": [
    "# Картежи удобно использовать в случае, когда нужно возвратить несколько значений из функции.\n",
    "# Когда функция возвращает несколько значений, фактически она возвращает в кортеж.\n",
    "# Пример:\n",
    "def get_user():\n",
    "    name = \"Sam\"\n",
    "    age = 35\n",
    "    is_married = False\n",
    "    return name, age, is_married\n",
    " \n",
    "user = get_user()\n",
    "print(user[0])              # Sam\n",
    "print(user[1])              # 35\n",
    "print(user[2])              # False"
   ]
  },
  {
   "cell_type": "code",
   "execution_count": 8,
   "metadata": {},
   "outputs": [
    {
     "name": "stdout",
     "output_type": "stream",
     "text": "3\n"
    }
   ],
   "source": [
    "# Функция <len()> позволит получить длину кортежа.\n",
    "# Пример:\n",
    "user = (\"Sam\", 35, False)\n",
    "print(len(user))        # 3"
   ]
  },
  {
   "cell_type": "code",
   "execution_count": 9,
   "metadata": {},
   "outputs": [
    {
     "name": "stdout",
     "output_type": "stream",
     "text": "Sam\n35\nFalse\n"
    }
   ],
   "source": [
    "# Так-же можно для перебора кортежа использовать стандартные циклы <for> и <while>\n",
    "# Пример:\n",
    "user = (\"Sam\", 35, False)\n",
    "for item in user:\n",
    "    print(item)"
   ]
  },
  {
   "cell_type": "code",
   "execution_count": null,
   "metadata": {},
   "outputs": [],
   "source": []
  }
 ]
}