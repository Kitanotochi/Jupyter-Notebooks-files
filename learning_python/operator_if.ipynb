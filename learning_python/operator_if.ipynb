{
 "nbformat": 4,
 "nbformat_minor": 2,
 "metadata": {
  "language_info": {
   "name": "python",
   "codemirror_mode": {
    "name": "ipython",
    "version": 3
   },
   "version": "3.8.0"
  },
  "orig_nbformat": 2,
  "file_extension": ".py",
  "mimetype": "text/x-python",
  "name": "python",
  "npconvert_exporter": "python",
  "pygments_lexer": "ipython3",
  "version": 3
 },
 "cells": [
  {
   "cell_type": "code",
   "execution_count": 1,
   "metadata": {},
   "outputs": [
    {
     "name": "stdout",
     "output_type": "stream",
     "text": "False\n"
    }
   ],
   "source": [
    "# Условный оператор ветвления <if>.\n",
    "# Оператор ветвления <if>  позволяет выполнить определенный набор инструкций в зависимости от некоторого условия.\n",
    "# Синтаксис оператора выглядит так.\n",
    "''' if выражение:\n",
    "    инструкция_1\n",
    "    инструкция_2\n",
    "    ...\n",
    "    инструкция_n\n",
    "'''\n",
    "# Пример:\n",
    "a = 3\n",
    "if a == 3:\n",
    "    print(\"False\")"
   ]
  },
  {
   "cell_type": "code",
   "execution_count": 2,
   "metadata": {},
   "outputs": [
    {
     "name": "stdout",
     "output_type": "stream",
     "text": "True\n"
    }
   ],
   "source": [
    "# Пример:\n",
    "a = 3\n",
    "if a > 1:\n",
    "   print(\"True\")"
   ]
  },
  {
   "cell_type": "code",
   "execution_count": 3,
   "metadata": {},
   "outputs": [
    {
     "name": "stdout",
     "output_type": "stream",
     "text": "True\n"
    }
   ],
   "source": [
    "# Конструкция <if – else>.\n",
    "# Используется при альтернативном варианте, когда при истинном условии нужно будет выполнить одни инструкции - при ложном другие.\n",
    "'''\n",
    "if выражение:\n",
    "    инструкция_1\n",
    "    инструкция_2\n",
    "    ...\n",
    "    инструкция_n\n",
    "else:\n",
    "    инструкция_a\n",
    "    инструкция_b\n",
    "    ...\n",
    "    инструкция_x\n",
    "'''\n",
    "# Пример:\n",
    "a = 3\n",
    "if a > 2:\n",
    "   print(\"True\")\n",
    "else:\n",
    "   print(\"False\")"
   ]
  },
  {
   "cell_type": "code",
   "execution_count": 4,
   "metadata": {},
   "outputs": [
    {
     "name": "stdout",
     "output_type": "stream",
     "text": "False\n"
    }
   ],
   "source": [
    "# Пример:\n",
    "a = 1\n",
    "if a > 2:\n",
    "   print(\"True\")\n",
    "else:\n",
    "   print(\"False\")"
   ]
  },
  {
   "cell_type": "code",
   "execution_count": 5,
   "metadata": {},
   "outputs": [
    {
     "name": "stdout",
     "output_type": "stream",
     "text": "True\n"
    }
   ],
   "source": [
    "# Условие можно записать в строку, оно будет в этом случае представлять \"тернарное выражение\".\n",
    "# Пример:\n",
    "a = 100\n",
    "b = True if a > 50 else False\n",
    "print(b)"
   ]
  },
  {
   "cell_type": "code",
   "execution_count": 6,
   "metadata": {},
   "outputs": [
    {
     "name": "stdout",
     "output_type": "stream",
     "text": "False\n"
    }
   ],
   "source": [
    "# Пример:\n",
    "a = 40\n",
    "b = True if a > 50 else False\n",
    "print(b)"
   ]
  },
  {
   "cell_type": "code",
   "execution_count": null,
   "metadata": {},
   "outputs": [],
   "source": [
    "# Конструкция <if – elif – else>\n",
    "'''\n",
    "if выражение_1:\n",
    "    инструкции_(блок_1)\n",
    "elif выражение_2:\n",
    "    инструкции_(блок_2)\n",
    "elif выражение_3:\n",
    "    инструкции_(блок_3)\n",
    "else:\n",
    "    инструкции_(блок_4)\n",
    "'''\n",
    "# Пример:\n",
    "a = int(input(\"Введите число:\"))\n",
    "if a < 0:\n",
    "   print(\"Neg\")\n",
    "elif a == 0:\n",
    "   print(\"Zero\")\n",
    "else:\n",
    "   print(\"Pos\")"
   ]
  }
 ]
}