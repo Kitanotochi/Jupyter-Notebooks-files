{
 "cells": [
  {
   "cell_type": "code",
   "execution_count": 1,
   "metadata": {},
   "outputs": [
    {
     "name": "stdout",
     "output_type": "stream",
     "text": "{'name': 'iPhone X', 'stock': '50', 'price': '65000.0'}\n"
    }
   ],
   "source": [
    "# Словари / Dictionaries\n",
    "# Содержат набор элементов в формате (ключ : значение)\n",
    "# Выбрать элемент можно по названию \"ключа\"\n",
    "# Нельзя рассчитывать на последовательность элементов, в которой их положили\n",
    "\n",
    "product = {\n",
    "    \"name\": \"iPhone X\",\n",
    "    \"stock\": \"50\",\n",
    "    \"price\": \"65000.0\"\n",
    "}\n",
    "print(product)"
   ]
  },
  {
   "cell_type": "code",
   "execution_count": 2,
   "metadata": {},
   "outputs": [
    {
     "name": "stdout",
     "output_type": "stream",
     "text": "3\n"
    }
   ],
   "source": [
    "# Кол-во элементов словоря подсчитываем функцией <len()>\n",
    "\n",
    "product = {\n",
    "    \"name\": \"iPhone X\",\n",
    "    \"stock\": \"50\",\n",
    "    \"price\": \"65000.0\"\n",
    "}\n",
    "print(len(product))"
   ]
  },
  {
   "cell_type": "code",
   "execution_count": 3,
   "metadata": {},
   "outputs": [
    {
     "name": "stdout",
     "output_type": "stream",
     "text": "{'name': 'iPhone X', 'stock': '50', 'price': '65000.0', 'memory': 64}\n"
    }
   ],
   "source": [
    "# Добовление элемента ключа, можно изменять элементы по названию ключа\n",
    "# Если такой ключ есть, значение будет обновленно\n",
    "# Если ключа нет, он будет создан\n",
    "\n",
    "product = {\n",
    "    \"name\": \"iPhone X\",\n",
    "    \"stock\": \"50\",\n",
    "    \"price\": \"65000.0\"\n",
    "}\n",
    "product[\"memory\"] = 64\n",
    "print(product)"
   ]
  },
  {
   "cell_type": "code",
   "execution_count": 4,
   "metadata": {},
   "outputs": [
    {
     "name": "stdout",
     "output_type": "stream",
     "text": "65000.0\n"
    }
   ],
   "source": [
    "# Значение элемента можно получить указав ключ в квадратных скобках\n",
    "\n",
    "product = {\n",
    "    \"name\": \"iPhone X\",\n",
    "    \"stock\": \"50\",\n",
    "    \"price\": \"65000.0\"\n",
    "}\n",
    "print(product[\"price\"])"
   ]
  },
  {
   "cell_type": "code",
   "execution_count": 5,
   "metadata": {},
   "outputs": [
    {
     "name": "stdout",
     "output_type": "stream",
     "text": "None\n"
    }
   ],
   "source": [
    "# Можно выводить значение для данного ключа\n",
    "# Если он не доступен с помощью метода <get()>\n",
    "# Если ключ не доступен, он возврощает значение NONE\n",
    "\n",
    "product = {\n",
    "    \"name\": \"iPhone X\",\n",
    "    \"stock\": \"50\",\n",
    "    \"price\": \"65000.0\"\n",
    "}\n",
    "print(product.get(\"CPU\"))"
   ]
  },
  {
   "cell_type": "code",
   "execution_count": 6,
   "metadata": {},
   "outputs": [
    {
     "name": "stdout",
     "output_type": "stream",
     "text": "0\n"
    }
   ],
   "source": [
    "# Можно задать значение о умолчанию: например <0>\n",
    "\n",
    "product = {\n",
    "    \"name\": \"iPhone X\",\n",
    "    \"stock\": \"50\",\n",
    "    \"price\": \"65000.0\"\n",
    "}\n",
    "print(product.get(\"CPU\", 0))\n",
    "\n"
   ]
  },
  {
   "cell_type": "code",
   "execution_count": 7,
   "metadata": {},
   "outputs": [
    {
     "name": "stdout",
     "output_type": "stream",
     "text": "{'name': 'iPhone X', 'stock': '50', 'price': '65000.0'}\n{'name': 'iPhone X', 'stock': '50'}\n"
    }
   ],
   "source": [
    "# Удаление ключа\n",
    "product = {\n",
    "    \"name\": \"iPhone X\",\n",
    "    \"stock\": \"50\",\n",
    "    \"price\": \"65000.0\"\n",
    "}\n",
    "print(product)\n",
    "del product[\"price\"]\n",
    "print(product)"
   ]
  },
  {
   "cell_type": "code",
   "execution_count": 8,
   "metadata": {},
   "outputs": [
    {
     "name": "stdout",
     "output_type": "stream",
     "text": "{'name': 'Thinkpad', 'stock': '50', 'price': '65000.0'}\n{'name': 'Thinkpad', 'stock': '50', 'price': '65000.0', 'recomend': ['Mac OS', 'Windows', 'Ubuntu', 'Fedora', 'Kali linux']}\n"
    }
   ],
   "source": [
    "# Списки и словари можно вкладывать друг в друга\n",
    "# Получим структуры данных, которые отображают нашу предметную область\n",
    "operating_systems = ['Mac OS', 'Windows', 'Ubuntu', 'Fedora', 'Kali linux']\n",
    "product = {\n",
    "    \"name\": \"Thinkpad\",\n",
    "    \"stock\": \"50\",\n",
    "    \"price\": \"65000.0\"\n",
    "}\n",
    "print(product)\n",
    "product[\"recomend\"] = operating_systems\n",
    "print(product)"
   ]
  },
  {
   "cell_type": "code",
   "execution_count": 9,
   "metadata": {},
   "outputs": [
    {
     "name": "stdout",
     "output_type": "stream",
     "text": "['Mac OS', 'Windows', 'Ubuntu', 'Fedora', 'Kali linux']\nKali linux\n"
    }
   ],
   "source": [
    "# Вложенные списки ничем не отличаются от обычных\n",
    "# Создали ключ \"recomend\" для работы с списком\n",
    "operating_systems = ['Mac OS', 'Windows', 'Ubuntu', 'Fedora', 'Kali linux']\n",
    "product = {\n",
    "    \"name\": \"Thinkpad\",\n",
    "    \"stock\": \"50\",\n",
    "    \"price\": \"65000.0\",\n",
    "    \"recomend\": operating_systems,\n",
    "}\n",
    "print(product[\"recomend\"])\n",
    "print(product[\"recomend\"][4])"
   ]
  },
  {
   "cell_type": "code",
   "execution_count": 10,
   "metadata": {},
   "outputs": [
    {
     "name": "stdout",
     "output_type": "stream",
     "text": "['Mac OS', 'Windows', 'Ubuntu', 'Fedora', 'Kali linux']\nKali linux\n{'name': 'Thinkpad', 'stock': '50', 'price': '65000.0', 'recomend': ['Mac OS', 'Windows', 'Ubuntu', 'Fedora', 'Kali linux', 'CentOS']}\n"
    }
   ],
   "source": [
    "# С помощью метода <.append> добовляем элементы\n",
    "operating_systems = ['Mac OS', 'Windows', 'Ubuntu', 'Fedora', 'Kali linux']\n",
    "product = {\n",
    "    \"name\": \"Thinkpad\",\n",
    "    \"stock\": \"50\",\n",
    "    \"price\": \"65000.0\",\n",
    "    \"recomend\": operating_systems,\n",
    "}\n",
    "print(product[\"recomend\"])\n",
    "print(product[\"recomend\"][4])\n",
    "# Добавили элемент \"CenOS\"\n",
    "product[\"recomend\"].append(\"CentOS\")\n",
    "print(product)"
   ]
  },
  {
   "cell_type": "code",
   "execution_count": 11,
   "metadata": {},
   "outputs": [
    {
     "name": "stdout",
     "output_type": "stream",
     "text": "{'name': 'Lenovo Thinkpad', 'stock': 35, 'price': 73000.0, 'recomended': ['Asus ZenBook', 'HP Pavilion']}\nLenovo Thinkpad\n[{'name': 'Lenovo Thinkpad', 'stock': 35, 'price': 78000.0, 'recomended': ['Asus ZenBook', 'HP Pavilion']}, {'name': 'Aser Predator', 'stock': 28, 'price': 71900.0, 'discount': '4500'}, {'name': 'Apple MakBook Air', 'stock': 26, 'price': 80000.0}]\n[{'name': 'Lenovo Thinkpad', 'stock': 35, 'price': 83000.0, 'recomended': ['Asus ZenBook', 'HP Pavilion']}, {'name': 'Aser Predator', 'stock': 28, 'price': 71900.0, 'discount': '4500'}, {'name': 'Apple MakBook Air', 'stock': 26, 'price': 80000.0}]\n"
    }
   ],
   "source": [
    "# Список словарей часто используется в разработке. Это может быть список товаров\n",
    "# Создал список словарей\n",
    "# <[]> скобки списка\n",
    "# <{}> в эти скобки заключены элементы словаря\n",
    "# Внутри списка, вложены словари. Так же, в словаре сеть вложение списка\n",
    "stock = [\n",
    "    {'name': 'Lenovo Thinkpad', 'stock': 35, 'price': 73000.0, 'recomended': ['Asus ZenBook', 'HP Pavilion']},\n",
    "    {'name': 'Aser Predator', 'stock': 28, 'price': 71900.0, 'discount': '4500'},\n",
    "    {'name': 'Apple MakBook Air', 'stock': 26, 'price': 80000.0}\n",
    "]\n",
    "# Выдает первый словарь\n",
    "print(stock[0])\n",
    "# Выдает значение словоря\n",
    "print(stock[0][\"name\"])\n",
    "# Увеличили значение словоря на 5000\n",
    "stock[0][\"price\"] = stock[0][\"price\"] + 5000\n",
    "print(stock)\n",
    "# Более простой способ увеличить или прибавить значение\n",
    "stock[0][\"price\"] += 5000\n",
    "print(stock)"
   ]
  },
  {
   "cell_type": "code",
   "execution_count": null,
   "metadata": {},
   "outputs": [],
   "source": []
  }
 ],
 "metadata": {},
 "nbformat": 4,
 "nbformat_minor": 2
}