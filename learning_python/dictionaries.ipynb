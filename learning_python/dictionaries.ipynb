{
 "cells": [
  {
   "cell_type": "code",
   "execution_count": 11,
   "metadata": {},
   "outputs": [
    {
     "name": "stdout",
     "output_type": "stream",
     "text": "{'name': 'iPhone X', 'stock': '50', 'price': '65000.0'}\n"
    }
   ],
   "source": [
    "# Словари / Dictionaries\n",
    "# Содержат набор элементов в формате (ключ : значение)\n",
    "# Выбрать элемент можно по названию \"ключа\"\n",
    "# Нельзя рассчитывать на последовательность элементов, в которой их положили\n",
    "\n",
    "product = {\n",
    "    \"name\": \"iPhone X\",\n",
    "    \"stock\": \"50\",\n",
    "    \"price\": \"65000.0\"\n",
    "}\n",
    "print(product)"
   ]
  },
  {
   "cell_type": "code",
   "execution_count": 12,
   "metadata": {},
   "outputs": [
    {
     "name": "stdout",
     "output_type": "stream",
     "text": "3\n"
    }
   ],
   "source": [
    "# Кол-во элементов словоря подсчитываем функцией <len()>\n",
    "product = {\n",
    "    \"name\": \"iPhone X\",\n",
    "    \"stock\": \"50\",\n",
    "    \"price\": \"65000.0\"\n",
    "}\n",
    "print(len(product))"
   ]
  },
  {
   "cell_type": "code",
   "execution_count": 2,
   "metadata": {},
   "outputs": [
    {
     "name": "stdout",
     "output_type": "stream",
     "text": "{'name': 'iPhone X', 'stock': '50', 'price': '65000.0', 'memory': 64}\n"
    }
   ],
   "source": [
    "# Добовление элемента ключа, можно изменять элементы по названию ключа\n",
    "# Если такой ключ есть, значение будет обновленно\n",
    "# Если ключа нет, он будет создан\n",
    "product = {\n",
    "    \"name\": \"iPhone X\",\n",
    "    \"stock\": \"50\",\n",
    "    \"price\": \"65000.0\"\n",
    "}\n",
    "product[\"memory\"] = 64\n",
    "print(product)"
   ]
  },
  {
   "cell_type": "code",
   "execution_count": null,
   "metadata": {},
   "outputs": [],
   "source": []
  }
 ],
 "metadata": {},
 "nbformat": 4,
 "nbformat_minor": 2
}