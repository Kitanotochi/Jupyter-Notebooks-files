{
 "cells": [
  {
   "cell_type": "code",
   "execution_count": 2,
   "metadata": {},
   "outputs": [
    {
     "name": "stdout",
     "output_type": "stream",
     "text": "{'name': 'iPhone X', 'stock': '50', 'price': '65000.0'}\n"
    }
   ],
   "source": [
    "# Словари / Dictionaries\n",
    "# Содержат набор элементов в формате (ключ : значение)\n",
    "# Выбрать элемент можно по названию \"ключа\"\n",
    "# Нельзя рассчитывать на последовательность элементов, в которой их положили\n",
    "\n",
    "product = {\n",
    "    \"name\": \"iPhone X\",\n",
    "    \"stock\": \"50\",\n",
    "    \"price\": \"65000.0\"\n",
    "}\n",
    "print(product)"
   ]
  },
  {
   "cell_type": "code",
   "execution_count": 3,
   "metadata": {},
   "outputs": [
    {
     "name": "stdout",
     "output_type": "stream",
     "text": "3\n"
    }
   ],
   "source": [
    "# Кол-во элементов словоря подсчитываем функцией <len()>\n",
    "product = {\n",
    "    \"name\": \"iPhone X\",\n",
    "    \"stock\": \"50\",\n",
    "    \"price\": \"65000.0\"\n",
    "}\n",
    "print(len(product))"
   ]
  },
  {
   "cell_type": "code",
   "execution_count": null,
   "metadata": {},
   "outputs": [],
   "source": []
  }
 ],
 "metadata": {},
 "nbformat": 4,
 "nbformat_minor": 2
}