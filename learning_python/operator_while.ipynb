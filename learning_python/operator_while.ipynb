{
 "nbformat": 4,
 "nbformat_minor": 2,
 "metadata": {
  "language_info": {
   "name": "python",
   "codemirror_mode": {
    "name": "ipython",
    "version": 3
   },
   "version": "3.8.0"
  },
  "orig_nbformat": 2,
  "file_extension": ".py",
  "mimetype": "text/x-python",
  "name": "python",
  "npconvert_exporter": "python",
  "pygments_lexer": "ipython3",
  "version": 3
 },
 "cells": [
  {
   "cell_type": "code",
   "execution_count": 9,
   "metadata": {},
   "outputs": [
    {
     "name": "stdout",
     "output_type": "stream",
     "text": "0\n4\n8\n"
    }
   ],
   "source": [
    "# Цикл <while>, универсальный цикл, его код выполняется не один раз.\n",
    "# Его называют \"цикл с предусловием\".\n",
    "# Запись цикла.\n",
    "''' while [условие истино]:\n",
    "        [сделать указанное]\n",
    "'''\n",
    "# Пример:\n",
    "count = 0\n",
    "while count < 10:\n",
    "    print(count)\n",
    "    count += 4"
   ]
  },
  {
   "cell_type": "code",
   "execution_count": 10,
   "metadata": {},
   "outputs": [
    {
     "name": "stdout",
     "output_type": "stream",
     "text": "1\n2\nЧисло найденно!\n"
    }
   ],
   "source": [
    "# После тела цикла можно указать <else> и блок операций, которые необходимо выполнить, когда закончится <while>.\n",
    "# Оператор <else> выполняется только в том случае, если цикл выполнен успешно. Задача для <else> это поиск объектов.\n",
    "# Пример:\n",
    "list = [1, 2, 3, 4, 5]\n",
    " \n",
    "for i in list:\n",
    "    if i == 3:\n",
    "        print(\"Число найденно!\")\n",
    "        break\n",
    "    print(i)\n",
    "else:\n",
    "    print(\"Число не найденно!\")"
   ]
  },
  {
   "cell_type": "code",
   "execution_count": null,
   "metadata": {},
   "outputs": [],
   "source": []
  }
 ]
}