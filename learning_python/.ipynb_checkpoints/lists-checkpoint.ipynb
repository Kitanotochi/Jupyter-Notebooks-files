{
 "cells": [
  {
   "cell_type": "code",
   "execution_count": 1,
   "metadata": {},
   "outputs": [
    {
     "name": "stdout",
     "output_type": "stream",
     "text": [
      "['Mac OS', 'Windows', 'Ubuntu', 'Fedora', 'Kali linux']\n"
     ]
    }
   ],
   "source": [
    "# Вывод строки\n",
    "\n",
    "operating_systems = ['Mac OS', 'Windows', 'Ubuntu', 'Fedora', 'Kali linux']\n",
    "print(operating_systems)"
   ]
  },
  {
   "cell_type": "code",
   "execution_count": 2,
   "metadata": {},
   "outputs": [
    {
     "name": "stdout",
     "output_type": "stream",
     "text": [
      "5\n"
     ]
    }
   ],
   "source": [
    "# <len> - функция показывает колличество символов (длину строки)\n",
    "\n",
    "operating_systems_count = len(operating_systems)\n",
    "print(operating_systems_count)"
   ]
  },
  {
   "cell_type": "code",
   "execution_count": 3,
   "metadata": {},
   "outputs": [
    {
     "name": "stdout",
     "output_type": "stream",
     "text": [
      "['Mac OS', 'Windows', 'Ubuntu', 'Fedora', 'Kali linux', 'Linux Mint']\n"
     ]
    }
   ],
   "source": [
    "# <.append> - метод, который добовляет элемент в конец списка\n",
    "\n",
    "operating_systems = ['Mac OS', 'Windows', 'Ubuntu', 'Fedora', 'Kali linux']\n",
    "operating_systems.append('Linux Mint')\n",
    "print(operating_systems)"
   ]
  },
  {
   "cell_type": "code",
   "execution_count": 4,
   "metadata": {},
   "outputs": [
    {
     "name": "stdout",
     "output_type": "stream",
     "text": [
      "1\n",
      "1\n",
      "1\n",
      "1\n",
      "0\n",
      "1\n"
     ]
    }
   ],
   "source": [
    "# <.count> - метод, с помощью которого можно подсчитать кол-во интересующих элементов.\n",
    "\n",
    "print(operating_systems.count('Mac OS'))\n",
    "print(operating_systems.count('Windows'))\n",
    "print(operating_systems.count('Ubuntu'))\n",
    "print(operating_systems.count('Fedora'))\n",
    "print(operating_systems.count('Debian'))\n",
    "print(operating_systems.count('Kali linux'))"
   ]
  },
  {
   "cell_type": "code",
   "execution_count": 5,
   "metadata": {},
   "outputs": [
    {
     "name": "stdout",
     "output_type": "stream",
     "text": [
      "Mac OS\n",
      "Windows\n",
      "Ubuntu\n",
      "Fedora\n",
      "Kali linux\n"
     ]
    }
   ],
   "source": [
    "# Обрщение к элементам списка по индексу\n",
    "\n",
    "operating_systems = ['Mac OS', 'Windows', 'Ubuntu', 'Fedora', 'Kali linux']\n",
    "print(operating_systems[0])\n",
    "print(operating_systems[1])\n",
    "print(operating_systems[2])\n",
    "print(operating_systems[3])\n",
    "print(operating_systems[4])"
   ]
  },
  {
   "cell_type": "code",
   "execution_count": null,
   "metadata": {},
   "outputs": [],
   "source": []
  }
 ],
 "metadata": {
  "kernelspec": {
   "display_name": "Python 3",
   "language": "python",
   "name": "python3"
  },
  "language_info": {
   "codemirror_mode": {
    "name": "ipython",
    "version": 3
   },
   "file_extension": ".py",
   "mimetype": "text/x-python",
   "name": "python",
   "nbconvert_exporter": "python",
   "pygments_lexer": "ipython3",
   "version": "3.7.4"
  }
 },
 "nbformat": 4,
 "nbformat_minor": 2
}
