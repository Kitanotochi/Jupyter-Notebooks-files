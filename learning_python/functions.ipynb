{
 "nbformat": 4,
 "nbformat_minor": 2,
 "metadata": {
  "language_info": {
   "name": "python",
   "codemirror_mode": {
    "name": "ipython",
    "version": 3
   },
   "version": "3.8.0"
  },
  "orig_nbformat": 2,
  "file_extension": ".py",
  "mimetype": "text/x-python",
  "name": "python",
  "npconvert_exporter": "python",
  "pygments_lexer": "ipython3",
  "version": 3
 },
 "cells": [
  {
   "cell_type": "code",
   "execution_count": 1,
   "metadata": {},
   "outputs": [
    {
     "name": "stdout",
     "output_type": "stream",
     "text": "50.0\n54.0\n38.5\n"
    }
   ],
   "source": [
    "# Функции\n",
    "# Создаем функцию для подсчета скидок\n",
    "def discounted(price, discount):\n",
    "    price_with_discount = price - price * discount / 100\n",
    "    print(price_with_discount)\n",
    "# Вызываем функцию с разными значениями\n",
    "discounted(100, 50)\n",
    "discounted(90, 40)\n",
    "discounted(55, 30)"
   ]
  },
  {
   "cell_type": "code",
   "execution_count": 2,
   "metadata": {},
   "outputs": [
    {
     "name": "stdout",
     "output_type": "stream",
     "text": "50.0\n54.0\n38.5\n"
    }
   ],
   "source": [
    "# Усложняем функцию, добавив проверку\n",
    "# Если скидка больше цены, входные даннные не верны\n",
    "def discounted(price, discount):\n",
    "    if discount >= 100:\n",
    "        price_with_discount = price\n",
    "    else:\n",
    "        price_with_discount = price - price * discount / 100\n",
    "    print(price_with_discount)\n",
    "discounted(100, 50)\n",
    "discounted(90, 40)\n",
    "discounted(55, 30)"
   ]
  },
  {
   "cell_type": "code",
   "execution_count": 3,
   "metadata": {},
   "outputs": [
    {
     "name": "stdout",
     "output_type": "stream",
     "text": "50.0\n54.0\n38.5\n"
    }
   ],
   "source": [
    "# Используем функцию <abs()>, которая возврощает обсолютное значение, положетельные числа\n",
    "def discounted_3(price, discount):\n",
    "    price = abs(float(price))\n",
    "    discount = abs(float(discount))\n",
    "    if discount >= 100:\n",
    "        price_with_discount = price\n",
    "    else:\n",
    "        price_with_discount = price - price * discount / 100\n",
    "    print(price_with_discount)\n",
    "discounted_3(-100, 50)\n",
    "discounted_3(90, 40)\n",
    "discounted_3(55, -30)"
   ]
  },
  {
   "cell_type": "code",
   "execution_count": null,
   "metadata": {},
   "outputs": [],
   "source": []
  }
 ]
}