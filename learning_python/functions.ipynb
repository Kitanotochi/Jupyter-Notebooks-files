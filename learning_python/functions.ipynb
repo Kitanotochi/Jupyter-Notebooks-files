{
 "nbformat": 4,
 "nbformat_minor": 2,
 "metadata": {
  "language_info": {
   "name": "python",
   "codemirror_mode": {
    "name": "ipython",
    "version": 3
   },
   "version": "3.8.0"
  },
  "orig_nbformat": 2,
  "file_extension": ".py",
  "mimetype": "text/x-python",
  "name": "python",
  "npconvert_exporter": "python",
  "pygments_lexer": "ipython3",
  "version": 3
 },
 "cells": [
  {
   "cell_type": "code",
   "execution_count": 2,
   "metadata": {},
   "outputs": [
    {
     "name": "stdout",
     "output_type": "stream",
     "text": "50.0\n54.0\n38.5\n"
    }
   ],
   "source": [
    "# Функции\n",
    "# Создаем функцию для подсчета скидок\n",
    "def discounted(price, discount):\n",
    "    price_with_discount = price - price * discount / 100\n",
    "    print(price_with_discount)\n",
    "# Вызываем функцию с разными значениями\n",
    "discounted(100, 50)\n",
    "discounted(90, 40)\n",
    "discounted(55, 30)"
   ]
  },
  {
   "cell_type": "code",
   "execution_count": 3,
   "metadata": {},
   "outputs": [
    {
     "name": "stdout",
     "output_type": "stream",
     "text": "50.0\n54.0\n38.5\n"
    }
   ],
   "source": [
    "# Усложняем функцию, добавив проверку\n",
    "# Если скидка больше цены, входные даннные не верны\n",
    "def discounted(price, discount):\n",
    "    if discount >= 100:\n",
    "        price_with_discount = price\n",
    "    else:\n",
    "        price_with_discount = price - price * discount / 100\n",
    "    print(price_with_discount)\n",
    "discounted(100, 50)\n",
    "discounted(90, 40)\n",
    "discounted(55, 30)"
   ]
  },
  {
   "cell_type": "code",
   "execution_count": 4,
   "metadata": {},
   "outputs": [
    {
     "name": "stdout",
     "output_type": "stream",
     "text": "50.0\n54.0\n38.5\n"
    }
   ],
   "source": [
    "# Используем функцию <abs()>, которая возврощает обсолютное значение, положетельные числа\n",
    "def discounted_3(price, discount):\n",
    "    price = abs(float(price))\n",
    "    discount = abs(float(discount))\n",
    "    if discount >= 100:\n",
    "        price_with_discount = price\n",
    "    else:\n",
    "        price_with_discount = price - price * discount / 100\n",
    "    print(price_with_discount)\n",
    "discounted_3(-100, 50)\n",
    "discounted_3(90, 40)\n",
    "discounted_3(55, -30)"
   ]
  },
  {
   "cell_type": "code",
   "execution_count": 5,
   "metadata": {},
   "outputs": [
    {
     "name": "stdout",
     "output_type": "stream",
     "text": "50.0\n"
    }
   ],
   "source": [
    "# С помощью оператора <return> возврощаем значение функции в основную программу\n",
    "def discounted_4(price, discount):\n",
    "    price = abs(float(price))\n",
    "    discount = abs(float(discount))\n",
    "    if discount >= 100:\n",
    "        price_with_discount = price\n",
    "    else:\n",
    "        price_with_discount = price - price * discount / 100\n",
    "    return price_with_discount\n",
    "# Положим результат в переменную, так как функция возврощает результат своей работы\n",
    "x = discounted_4(100, 50)\n",
    "print(x)"
   ]
  },
  {
   "cell_type": "code",
   "execution_count": 6,
   "metadata": {},
   "outputs": [
    {
     "name": "stdout",
     "output_type": "stream",
     "text": "{'name': 'iPhone X', 'stock': '50', 'price': '65000.0', 'discount': '50', 'with_discount': 32500.0}\n"
    }
   ],
   "source": [
    "# Выводим функцию с помощью оператора <return>\n",
    "def discounted_5(price, discount):\n",
    "    price = abs(float(price))\n",
    "    discount = abs(float(discount))\n",
    "    if discount >= 100:\n",
    "        price_with_discount = price\n",
    "    else:\n",
    "        price_with_discount = price - price * discount / 100\n",
    "    return price_with_discount\n",
    "# Создаем словарь\n",
    "product = {\n",
    "    \"name\": \"iPhone X\",\n",
    "    \"stock\": \"50\",\n",
    "    \"price\": \"65000.0\",\n",
    "    \"discount\": \"50\"\n",
    "}\n",
    "# Добовляем новый ключ\n",
    "product['with_discount'] = discounted_5(product['price'], product['discount'])\n",
    "print(product)"
   ]
  },
  {
   "cell_type": "code",
   "execution_count": null,
   "metadata": {},
   "outputs": [],
   "source": []
  }
 ]
}